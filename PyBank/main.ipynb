{
 "cells": [
  {
   "cell_type": "code",
   "execution_count": 1,
   "id": "2bcb964f-670e-4d08-8c24-71ad60eab7d2",
   "metadata": {},
   "outputs": [],
   "source": [
    "import pandas as pd\n",
    "from pathlib import Path\n",
    "import csv"
   ]
  },
  {
   "cell_type": "code",
   "execution_count": 2,
   "id": "cfcc9f05-737f-4906-be07-3d6a2785974c",
   "metadata": {},
   "outputs": [],
   "source": [
    "budget_data = Path(\"../Resources/budget_data.csv\")"
   ]
  },
  {
   "cell_type": "code",
   "execution_count": 3,
   "id": "02eea1a9-40b9-43cb-81ec-3344ae4c0b76",
   "metadata": {},
   "outputs": [],
   "source": [
    "total_months = []\n",
    "netPL = []\n",
    "average_monthly_change = []"
   ]
  },
  {
   "cell_type": "code",
   "execution_count": 4,
   "id": "643a71c7-153c-48f5-8122-470fefb524d6",
   "metadata": {},
   "outputs": [],
   "source": [
    "with open(budget_data, 'r') as file:\n",
    "    csvreader = csv.reader(file, delimiter=',')\n",
    "    header = next(csvreader)\n",
    "    for row in csvreader:\n",
    "        total_months.append(row[0])\n",
    "        netPL.append(int(row[1]))\n",
    "    for i in range(len(netPL)-1):\n",
    "        average_monthly_change.append(netPL[i+1]-netPL[i])"
   ]
  },
  {
   "cell_type": "code",
   "execution_count": 5,
   "id": "8ba3174c-da65-403c-8c0f-d7dce8306955",
   "metadata": {},
   "outputs": [],
   "source": [
    "max_increase = max(average_monthly_change)\n",
    "max_decrease = min(average_monthly_change)\n",
    "max_increase_month = average_monthly_change.index(max(average_monthly_change)) + 1\n",
    "max_decrease_month = average_monthly_change.index(min(average_monthly_change)) + 1\n",
    "\n"
   ]
  },
  {
   "cell_type": "code",
   "execution_count": 9,
   "id": "5c76f0fe-48bb-48df-ae8a-00ccac82a2e2",
   "metadata": {},
   "outputs": [
    {
     "name": "stdout",
     "output_type": "stream",
     "text": [
      "Financial Analysis\n",
      "----------------------------\n",
      "Total Months: 86\n",
      "Total: $38382578\n",
      "Average Change: $-2315.12\n",
      "Greatest Increase in Profits: Feb-2012 | ($1926159)\n",
      "Greatest Decrease in Profits: Sep-2013 | ($-2196167)\n"
     ]
    }
   ],
   "source": [
    "print(\"Financial Analysis\")\n",
    "print(\"----------------------------\")\n",
    "print(f\"Total Months: {len(total_months)}\")\n",
    "print(f\"Total: ${sum(netPL)}\")\n",
    "print(f\"Average Change: ${round(sum(average_monthly_change)/len(average_monthly_change),2)}\")\n",
    "print(f\"Greatest Increase in Profits: {total_months[max_increase_month]} | (${(str(max_increase))})\")\n",
    "print(f\"Greatest Decrease in Profits: {total_months[max_decrease_month]} | (${(str(max_decrease))})\")\n"
   ]
  },
  {
   "cell_type": "code",
   "execution_count": 10,
   "id": "97002581-7b1a-40c5-ad22-472df15d916a",
   "metadata": {},
   "outputs": [],
   "source": [
    "output_file = Path(\"../\", \"Financial_Analysis.txt\")\n",
    "with open(output_file,\"w\") as file:\n",
    "    file.write(\"Financial Analysis\")\n",
    "    file.write(\"\\n\")\n",
    "    file.write(\"----------------------------\")\n",
    "    file.write(\"\\n\")\n",
    "    file.write(f\"Total Months: {len(total_months)}\")\n",
    "    file.write(\"\\n\")\n",
    "    file.write(f\"Total: ${sum(netPL)}\")\n",
    "    file.write(\"\\n\")\n",
    "    file.write(f\"Average Change: ${round(sum(average_monthly_change)/len(average_monthly_change),2)}\")\n",
    "    file.write(\"\\n\")\n",
    "    file.write(f\"Greatest Increase in Profits: {total_months[max_increase_month]} | (${(str(max_increase))})\")\n",
    "    file.write(\"\\n\")\n",
    "    file.write(f\"Greatest Decrease in Profits: {total_months[max_decrease_month]} | (${(str(max_decrease))})\")\n"
   ]
  },
  {
   "cell_type": "code",
   "execution_count": null,
   "id": "be04d897-775b-439d-b633-9909dcfaf2d7",
   "metadata": {},
   "outputs": [],
   "source": []
  }
 ],
 "metadata": {
  "kernelspec": {
   "display_name": "Python 3 (ipykernel)",
   "language": "python",
   "name": "python3"
  },
  "language_info": {
   "codemirror_mode": {
    "name": "ipython",
    "version": 3
   },
   "file_extension": ".py",
   "mimetype": "text/x-python",
   "name": "python",
   "nbconvert_exporter": "python",
   "pygments_lexer": "ipython3",
   "version": "3.9.7"
  }
 },
 "nbformat": 4,
 "nbformat_minor": 5
}
